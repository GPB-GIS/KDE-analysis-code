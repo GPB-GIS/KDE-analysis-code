{
 "cells": [
  {
   "cell_type": "code",
   "execution_count": 1,
   "metadata": {},
   "outputs": [],
   "source": [
    "# Load in Libraries\n",
    "import pandas as pd\n",
    "import geopandas as gpd\n",
    "import os"
   ]
  },
  {
   "cell_type": "code",
   "execution_count": 2,
   "metadata": {},
   "outputs": [
    {
     "data": {
      "text/html": [
       "<div>\n",
       "<style scoped>\n",
       "    .dataframe tbody tr th:only-of-type {\n",
       "        vertical-align: middle;\n",
       "    }\n",
       "\n",
       "    .dataframe tbody tr th {\n",
       "        vertical-align: top;\n",
       "    }\n",
       "\n",
       "    .dataframe thead th {\n",
       "        text-align: right;\n",
       "    }\n",
       "</style>\n",
       "<table border=\"1\" class=\"dataframe\">\n",
       "  <thead>\n",
       "    <tr style=\"text-align: right;\">\n",
       "      <th></th>\n",
       "      <th>community</th>\n",
       "      <th>lat</th>\n",
       "      <th>lon</th>\n",
       "      <th>count</th>\n",
       "    </tr>\n",
       "  </thead>\n",
       "  <tbody>\n",
       "    <tr>\n",
       "      <th>12676</th>\n",
       "      <td>52</td>\n",
       "      <td>27.70980</td>\n",
       "      <td>85.31630</td>\n",
       "      <td>3</td>\n",
       "    </tr>\n",
       "    <tr>\n",
       "      <th>12677</th>\n",
       "      <td>52</td>\n",
       "      <td>27.71961</td>\n",
       "      <td>85.35592</td>\n",
       "      <td>1</td>\n",
       "    </tr>\n",
       "    <tr>\n",
       "      <th>12678</th>\n",
       "      <td>53</td>\n",
       "      <td>27.66831</td>\n",
       "      <td>85.31122</td>\n",
       "      <td>1</td>\n",
       "    </tr>\n",
       "    <tr>\n",
       "      <th>12679</th>\n",
       "      <td>53</td>\n",
       "      <td>27.67170</td>\n",
       "      <td>85.30890</td>\n",
       "      <td>3</td>\n",
       "    </tr>\n",
       "    <tr>\n",
       "      <th>12680</th>\n",
       "      <td>53</td>\n",
       "      <td>27.91130</td>\n",
       "      <td>85.14180</td>\n",
       "      <td>2</td>\n",
       "    </tr>\n",
       "  </tbody>\n",
       "</table>\n",
       "</div>"
      ],
      "text/plain": [
       "       community       lat       lon  count\n",
       "12676         52  27.70980  85.31630      3\n",
       "12677         52  27.71961  85.35592      1\n",
       "12678         53  27.66831  85.31122      1\n",
       "12679         53  27.67170  85.30890      3\n",
       "12680         53  27.91130  85.14180      2"
      ]
     },
     "execution_count": 2,
     "metadata": {},
     "output_type": "execute_result"
    }
   ],
   "source": [
    "# Load in csv\n",
    "ssc_csv = pd.read_csv(\"ssc_csv.csv\")\n",
    "ssc_csv.head()\n",
    "ssc_csv.tail()\n",
    "#print(ssc_csv['community'])"
   ]
  },
  {
   "cell_type": "code",
   "execution_count": 3,
   "metadata": {},
   "outputs": [
    {
     "name": "stdout",
     "output_type": "stream",
     "text": [
      "12681\n",
      "['community' 'lat' 'lon' 'count']\n"
     ]
    }
   ],
   "source": [
    "print(len(ssc_csv['community']))\n",
    "print(ssc_csv.columns.values)"
   ]
  },
  {
   "cell_type": "code",
   "execution_count": 5,
   "metadata": {},
   "outputs": [
    {
     "name": "stdout",
     "output_type": "stream",
     "text": [
      "0 processed\n",
      "1 processed\n",
      "2 processed\n",
      "3 processed\n",
      "4 processed\n",
      "5 processed\n",
      "6 processed\n",
      "7 processed\n",
      "8 processed\n",
      "9 processed\n",
      "10 processed\n",
      "11 processed\n",
      "12 processed\n",
      "13 processed\n",
      "14 processed\n",
      "15 processed\n",
      "16 processed\n",
      "17 processed\n",
      "18 processed\n",
      "19 processed\n",
      "20 processed\n",
      "21 processed\n",
      "22 processed\n",
      "23 processed\n",
      "24 processed\n",
      "25 processed\n",
      "26 processed\n",
      "27 processed\n",
      "28 processed\n",
      "29 processed\n",
      "30 processed\n",
      "31 processed\n",
      "32 processed\n",
      "33 processed\n",
      "34 processed\n",
      "35 processed\n",
      "36 processed\n",
      "37 processed\n",
      "38 processed\n",
      "39 processed\n",
      "40 processed\n",
      "41 processed\n",
      "42 processed\n",
      "43 processed\n",
      "44 processed\n",
      "45 processed\n",
      "46 processed\n",
      "47 processed\n",
      "48 processed\n",
      "49 processed\n",
      "50 processed\n",
      "51 processed\n",
      "52 processed\n",
      "53 processed\n"
     ]
    }
   ],
   "source": [
    "# Create new data frame\n",
    "\n",
    "ssc_csv_columns = ssc_csv.columns.values\n",
    "\n",
    "for i in range(54):\n",
    "    comm_table = ssc_csv\n",
    "    drop_rows = []\n",
    "    \n",
    "    for row in range(len(ssc_csv['community'])):\n",
    "        if ssc_csv.loc[row, 'community'] != i:\n",
    "            drop_rows.append(row)\n",
    "            \n",
    "    comm_table = comm_table.drop(drop_rows)\n",
    "    \n",
    "    comm_table.to_csv(\"../../data/raw/ind_comm/community_\" + str(i) + \".csv\")\n",
    "    print(str(i) + \" processed\")\n"
   ]
  },
  {
   "cell_type": "code",
   "execution_count": null,
   "metadata": {},
   "outputs": [],
   "source": []
  }
 ],
 "metadata": {
  "kernelspec": {
   "display_name": "Python 2",
   "language": "python",
   "name": "python2"
  },
  "language_info": {
   "codemirror_mode": {
    "name": "ipython",
    "version": 2
   },
   "file_extension": ".py",
   "mimetype": "text/x-python",
   "name": "python",
   "nbconvert_exporter": "python",
   "pygments_lexer": "ipython2",
   "version": "2.7.15"
  }
 },
 "nbformat": 4,
 "nbformat_minor": 2
}
