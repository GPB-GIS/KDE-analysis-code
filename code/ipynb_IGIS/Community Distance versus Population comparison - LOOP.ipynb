{
 "cells": [
  {
   "cell_type": "code",
   "execution_count": 1,
   "metadata": {},
   "outputs": [],
   "source": [
    "# Import required libraries\n",
    "import pandas as pd\n",
    "import geopandas as gpd\n",
    "import fiona\n",
    "import os\n",
    "import numpy as np\n",
    "import matplotlib.pyplot as plt\n",
    "import matplotlib as mpl"
   ]
  },
  {
   "cell_type": "code",
   "execution_count": 2,
   "metadata": {},
   "outputs": [],
   "source": [
    "# Set data path to the data folder within PhD folder\n",
    "data_path = \"../../data/working_files/comm_distpop/\""
   ]
  },
  {
   "cell_type": "code",
   "execution_count": 3,
   "metadata": {},
   "outputs": [
    {
     "name": "stdout",
     "output_type": "stream",
     "text": [
      "['community_0.shp', 'community_1.shp', 'community_10.shp', 'community_11.shp', 'community_12.shp', 'community_13.shp', 'community_14.shp', 'community_15.shp', 'community_16.shp', 'community_17.shp', 'community_18.shp', 'community_19.shp', 'community_2.shp', 'community_20.shp', 'community_21.shp', 'community_22.shp', 'community_23.shp', 'community_24.shp', 'community_25.shp', 'community_26.shp', 'community_27.shp', 'community_28.shp', 'community_29.shp', 'community_3.shp', 'community_30.shp', 'community_31.shp', 'community_32.shp', 'community_33.shp', 'community_34.shp', 'community_35.shp', 'community_36.shp', 'community_37.shp', 'community_38.shp', 'community_39.shp', 'community_4.shp', 'community_40.shp', 'community_41.shp', 'community_42.shp', 'community_5.shp', 'community_6.shp', 'community_7.shp', 'community_8.shp', 'community_9.shp']\n"
     ]
    }
   ],
   "source": [
    "# List our community tables:\n",
    "\n",
    "# First set our empty list\n",
    "comm_tables = []\n",
    "\n",
    "# For each file within our processed folder, listed by the listfunction \n",
    "for file in os.listdir(data_path):\n",
    "    # if the filename is equal to wildcard.shp, i.e. has a .shp extension\n",
    "    if file.endswith('.shp'):\n",
    "        # we use the .append() function to append the file to our crime_rate_datasets list\n",
    "        comm_tables.append(file)\n",
    "\n",
    "print(comm_tables)"
   ]
  },
  {
   "cell_type": "code",
   "execution_count": 8,
   "metadata": {
    "scrolled": true
   },
   "outputs": [
    {
     "name": "stdout",
     "output_type": "stream",
     "text": [
      "community_6.shp\n",
      "1: 115182\n",
      "2: 101457\n",
      "3: 101457\n",
      "4: 101457\n",
      "5: 101457\n",
      "community_6.shp exported\n",
      "community_7.shp\n",
      "1: 113354\n",
      "2: 99732\n",
      "3: 99732\n",
      "4: 99732\n",
      "5: 99732\n",
      "community_7.shp exported\n",
      "community_8.shp\n",
      "1: 105407\n",
      "2: 92008\n",
      "3: 92008\n",
      "4: 92008\n",
      "5: 92008\n",
      "community_8.shp exported\n",
      "community_9.shp\n",
      "1: 112407\n",
      "2: 98853\n",
      "3: 98853\n",
      "4: 98853\n",
      "5: 98853\n",
      "community_9.shp exported\n"
     ]
    }
   ],
   "source": [
    "for i in comm_tables[39:]:\n",
    "    comm_shp = gpd.read_file(data_path + i)\n",
    "    print(i)\n",
    "    print(\"1: \" + str(len(comm_shp['TARGET_FID'])))\n",
    "    \n",
    "    # Remove any rows with 0 in the Comm_Pro\n",
    "    drop_rows = []\n",
    "\n",
    "    for row in range(len(comm_shp['TARGET_FID'])):\n",
    "            if comm_shp.loc[row, 'Comm_Pro'] == 0:\n",
    "                #comm_shp.drop(row)\n",
    "                \n",
    "                drop_rows.append(row)\n",
    "        \n",
    "    comm_table = comm_shp.drop(drop_rows)\n",
    "    #comm_table = comm_shp.Comm_Pro.str.co != '0']\n",
    "    \n",
    "    print(\"2: \" + str(len(comm_table['TARGET_FID'])))\n",
    "    \n",
    "    # Sort by Near Distance column\n",
    "    comm_table_sort = comm_table.sort_values(by=['NEAR_DIST'], ascending=True)\n",
    "    \n",
    "    print(\"3: \" + str(len(comm_table_sort['TARGET_FID'])))\n",
    "    \n",
    "    # Add in column for cumulative community size\n",
    "    comm_table_sort.insert(8, 'Cum_Pop', 0)\n",
    "    \n",
    "    # Calculate cumulative proportion for each\n",
    "    comm_table_sort['Cum_Pop'] = comm_table_sort[\"Comm_Pro\"].cumsum()\n",
    "    \n",
    "     # Add in column for calculation of cum pop over total pop     \n",
    "    comm_table_sort.insert(9, 'Comm_Per', 0)\n",
    "    \n",
    "    # Calculate total pop\n",
    "    total_comm_pop = comm_table_sort['Comm_Pro'].sum()\n",
    "    \n",
    "    # Create a new DF, fn, to add in comm_per, due to resetting index\n",
    "    comm_table_fn = comm_table_sort.reset_index()\n",
    "    \n",
    "    print(\"4: \" + str(len(comm_table_fn['TARGET_FID'])))\n",
    "\n",
    "    # Calculate Comm Per - cum pop / total pop\n",
    "    for row in range(len(comm_table_fn['Comm_Per'])):\n",
    "        comm_table_fn.loc[row, 'Comm_Per'] = (comm_table_fn.loc[row, 'Cum_Pop']/total_comm_pop) * 100\n",
    "        \n",
    "    # Change Units of Distance by adding in new column and calculation\n",
    "    comm_table_fn.insert(9, 'NEAR_DIST_KM', 0)\n",
    "\n",
    "    for row in range(len(comm_table_fn['NEAR_DIST'])):\n",
    "        comm_table_fn.loc[row, 'NEAR_DIST_KM'] = (comm_table_fn.loc[row, 'NEAR_DIST']) * 100\n",
    "    \n",
    "    print(\"5: \" + str(len(comm_table_fn['TARGET_FID'])))\n",
    "    \n",
    "    # Export edited DF to a new shapefile\n",
    "    comm_table_fn.to_file(data_path + \"processed/\" + i)\n",
    "    \n",
    "    print(i + \" exported\")"
   ]
  },
  {
   "cell_type": "code",
   "execution_count": 18,
   "metadata": {},
   "outputs": [
    {
     "name": "stdout",
     "output_type": "stream",
     "text": [
      "community_0.shp\n",
      "1: 114753\n",
      "6: 101052\n",
      "community_0.shp exported\n",
      "community_1.shp\n",
      "1: 112128\n",
      "6: 98529\n",
      "community_1.shp exported\n",
      "community_10.shp\n",
      "1: 97008\n",
      "6: 85928\n",
      "community_10.shp exported\n",
      "community_11.shp\n",
      "1: 28907\n",
      "6: 26021\n",
      "community_11.shp exported\n",
      "community_12.shp\n",
      "1: 68561\n",
      "6: 59260\n",
      "community_12.shp exported\n",
      "community_13.shp\n",
      "1: 49535\n",
      "6: 43994\n",
      "community_13.shp exported\n",
      "community_14.shp\n",
      "1: 87936\n",
      "6: 78350\n",
      "community_14.shp exported\n",
      "community_15.shp\n",
      "1: 11761\n",
      "6: 10179\n",
      "community_15.shp exported\n",
      "community_16.shp\n",
      "1: 3142\n",
      "6: 2860\n",
      "community_16.shp exported\n",
      "community_17.shp\n",
      "1: 83236\n",
      "6: 75487\n",
      "community_17.shp exported\n",
      "community_18.shp\n",
      "1: 35639\n",
      "6: 32482\n",
      "community_18.shp exported\n",
      "community_19.shp\n",
      "1: 48605\n",
      "6: 45171\n",
      "community_19.shp exported\n",
      "community_2.shp\n",
      "1: 100166\n",
      "6: 89044\n",
      "community_2.shp exported\n",
      "community_20.shp\n",
      "1: 25388\n",
      "6: 22477\n",
      "community_20.shp exported\n",
      "community_21.shp\n",
      "1: 18087\n",
      "6: 15018\n",
      "community_21.shp exported\n",
      "community_22.shp\n",
      "1: 87\n",
      "6: 66\n",
      "community_22.shp exported\n",
      "community_23.shp\n",
      "1: 18379\n",
      "6: 17318\n",
      "community_23.shp exported\n",
      "community_24.shp\n",
      "1: 9550\n",
      "6: 8999\n",
      "community_24.shp exported\n",
      "community_25.shp\n",
      "1: 4629\n",
      "6: 4374\n",
      "community_25.shp exported\n",
      "community_26.shp\n",
      "1: 38500\n",
      "6: 35376\n",
      "community_26.shp exported\n",
      "community_27.shp\n",
      "1: 7428\n",
      "6: 4155\n",
      "community_27.shp exported\n",
      "community_28.shp\n",
      "1: 2316\n",
      "6: 1852\n",
      "community_28.shp exported\n",
      "community_29.shp\n",
      "1: 27062\n",
      "6: 24097\n",
      "community_29.shp exported\n",
      "community_3.shp\n",
      "1: 108038\n",
      "6: 94568\n",
      "community_3.shp exported\n",
      "community_30.shp\n",
      "1: 222\n",
      "6: 200\n",
      "community_30.shp exported\n",
      "community_31.shp\n",
      "1: 109\n",
      "6: 91\n",
      "community_31.shp exported\n",
      "community_32.shp\n",
      "1: 34\n",
      "6: 27\n",
      "community_32.shp exported\n",
      "community_33.shp\n",
      "1: 104\n",
      "6: 90\n",
      "community_33.shp exported\n",
      "community_34.shp\n",
      "1: 3843\n",
      "6: 3661\n",
      "community_34.shp exported\n",
      "community_35.shp\n",
      "1: 58\n",
      "6: 48\n",
      "community_35.shp exported\n",
      "community_36.shp\n",
      "1: 1138\n",
      "6: 772\n",
      "community_36.shp exported\n",
      "community_37.shp\n",
      "1: 1357\n",
      "6: 1086\n",
      "community_37.shp exported\n",
      "community_38.shp\n",
      "1: 3540\n",
      "6: 3450\n",
      "community_38.shp exported\n",
      "community_39.shp\n",
      "1: 8\n",
      "6: 6\n",
      "community_39.shp exported\n",
      "community_4.shp\n",
      "1: 28099\n",
      "6: 23329\n",
      "community_4.shp exported\n",
      "community_40.shp\n",
      "1: 2104\n",
      "6: 2007\n",
      "community_40.shp exported\n",
      "community_41.shp\n",
      "1: 525\n",
      "6: 449\n",
      "community_41.shp exported\n",
      "community_42.shp\n",
      "1: 122\n",
      "6: 108\n",
      "community_42.shp exported\n",
      "community_5.shp\n",
      "1: 110292\n",
      "6: 96713\n",
      "community_5.shp exported\n",
      "community_6.shp\n",
      "1: 115182\n",
      "6: 101457\n",
      "community_6.shp exported\n",
      "community_7.shp\n",
      "1: 113354\n",
      "6: 99732\n",
      "community_7.shp exported\n",
      "community_8.shp\n",
      "1: 105407\n",
      "6: 92008\n",
      "community_8.shp exported\n",
      "community_9.shp\n",
      "1: 112407\n",
      "6: 98853\n",
      "community_9.shp exported\n"
     ]
    }
   ],
   "source": [
    "# List our community tables:\n",
    "\n",
    "for i in comm_tables:\n",
    "    comm_shp = gpd.read_file(data_path + i)\n",
    "    print(i)\n",
    "    print(\"1: \" + str(len(comm_shp['TARGET_FID'])))\n",
    "    \n",
    "    # Remove any rows with 0 in the Comm_Pro\n",
    "    drop_rows = []\n",
    "\n",
    "    for row in range(len(comm_shp['TARGET_FID'])):\n",
    "            if comm_shp.loc[row, 'Comm_Pro'] == 0:\n",
    "                #comm_shp.drop(row)\n",
    "                drop_rows.append(row)\n",
    "        \n",
    "    comm_table = comm_shp.drop(drop_rows)\n",
    "    \n",
    "    #print('Rows Dropped')\n",
    "\n",
    "    # Sort by Population (ascending) column\n",
    "    comm_table_fn = comm_table.sort_values(by=['Comm_Pro'], ascending=False)\n",
    "    \n",
    "    #print('Data Sorted')\n",
    "    \n",
    "    # Add in column for cumulative community size by distance\n",
    "    comm_table_fn.insert(7, 'Cum_Pop', 0)\n",
    "    \n",
    "    #print('First column added')\n",
    "    \n",
    "    # Calculate cumulative community pop by distance\n",
    "    comm_table_fn['Cum_Pop'] = comm_table_fn[\"Comm_Pro\"].cumsum()\n",
    "    \n",
    "    #print('Column summed')\n",
    "    \n",
    "    # Add in column for cumulative community size by distance / total population\n",
    "    comm_table_fn.insert(8, 'Comm_Per', 0)\n",
    "    \n",
    "    #print('Second column added')\n",
    "    \n",
    "    # Calculate total pop\n",
    "    total_comm_pop = comm_table_fn['Comm_Pro'].sum()\n",
    "    \n",
    "    #print('Total calculated')\n",
    "    \n",
    "    #comm_table_fn.info()\n",
    "    \n",
    "    # Create a new DF due to resetting index (required as we've removed rows?)\n",
    "    comm_table_fn = comm_table_fn.reset_index()\n",
    "    \n",
    "    # Calculate cumulative population by distance\n",
    "    for row in range(len(comm_table_fn['TARGET_FID'])):\n",
    "        comm_table_fn.loc[row, 'Comm_Per'] = ((comm_table_fn.loc[row, 'Cum_Pop'])/total_comm_pop) * 100\n",
    "        \n",
    "    print(\"6: \" + str(len(comm_table_fn['TARGET_FID'])))\n",
    "    \n",
    "    #Export edited DF to a new shapefile\n",
    "    comm_table_fn.to_file(data_path + \"final/\" + i)\n",
    "    \n",
    "    print(i + \" exported\")"
   ]
  },
  {
   "cell_type": "markdown",
   "metadata": {},
   "source": [
    "## Creating our Cum-Distribution Figure for each csv"
   ]
  },
  {
   "cell_type": "code",
   "execution_count": 15,
   "metadata": {},
   "outputs": [
    {
     "name": "stdout",
     "output_type": "stream",
     "text": [
      "['community_0.shp', 'community_1.shp', 'community_10.shp', 'community_11.shp', 'community_12.shp', 'community_13.shp', 'community_14.shp', 'community_15.shp', 'community_16.shp', 'community_17.shp', 'community_18.shp', 'community_19.shp', 'community_2.shp', 'community_20.shp', 'community_21.shp', 'community_22.shp', 'community_23.shp', 'community_24.shp', 'community_25.shp', 'community_26.shp', 'community_27.shp', 'community_28.shp', 'community_29.shp', 'community_3.shp', 'community_30.shp', 'community_31.shp', 'community_32.shp', 'community_33.shp', 'community_34.shp', 'community_35.shp', 'community_36.shp', 'community_37.shp', 'community_38.shp', 'community_39.shp', 'community_4.shp', 'community_40.shp', 'community_41.shp', 'community_42.shp', 'community_5.shp', 'community_6.shp', 'community_7.shp', 'community_8.shp', 'community_9.shp']\n"
     ]
    },
    {
     "data": {
      "text/plain": [
       "43"
      ]
     },
     "execution_count": 15,
     "metadata": {},
     "output_type": "execute_result"
    }
   ],
   "source": [
    "#list newly created CSVs\n",
    "\n",
    "# First set our empty list\n",
    "comm_d_tables = []\n",
    "\n",
    "# For each file within our processed folder, listed by the listfunction \n",
    "for file in os.listdir(data_path + \"processed/\"):\n",
    "    # if the filename is equal to wildcard.shp, i.e. has a .shp extension\n",
    "    if file.endswith('.shp'):\n",
    "        # we use the .append() function\n",
    "        comm_d_tables.append(file)\n",
    "\n",
    "print(comm_d_tables)\n",
    "len(comm_d_tables)"
   ]
  },
  {
   "cell_type": "code",
   "execution_count": 16,
   "metadata": {},
   "outputs": [
    {
     "name": "stdout",
     "output_type": "stream",
     "text": [
      "community_0.shp exported\n",
      "community_1.shp exported\n",
      "community_10.shp exported\n",
      "community_11.shp exported\n",
      "community_12.shp exported\n",
      "community_13.shp exported\n",
      "community_14.shp exported\n",
      "community_15.shp exported\n",
      "community_16.shp exported\n",
      "community_17.shp exported\n",
      "community_18.shp exported\n",
      "community_19.shp exported\n",
      "community_2.shp exported\n",
      "community_20.shp exported\n",
      "community_21.shp exported\n",
      "community_22.shp exported\n",
      "community_23.shp exported\n",
      "community_24.shp exported\n",
      "community_25.shp exported\n",
      "community_26.shp exported\n",
      "community_27.shp exported\n",
      "community_28.shp exported\n",
      "community_29.shp exported\n",
      "community_3.shp exported\n",
      "community_30.shp exported\n",
      "community_31.shp exported\n",
      "community_32.shp exported\n",
      "community_33.shp exported\n",
      "community_34.shp exported\n",
      "community_35.shp exported\n",
      "community_36.shp exported\n",
      "community_37.shp exported\n",
      "community_38.shp exported\n",
      "community_39.shp exported\n",
      "community_4.shp exported\n",
      "community_40.shp exported\n",
      "community_41.shp exported\n",
      "community_42.shp exported\n",
      "community_5.shp exported\n",
      "community_6.shp exported\n",
      "community_7.shp exported\n",
      "community_8.shp exported\n",
      "community_9.shp exported\n"
     ]
    }
   ],
   "source": [
    "for idx in range(len(comm_d_tables)):\n",
    "    table = comm_d_tables[idx]\n",
    "    comm_table = data_path + \"processed/\" + table\n",
    "    comm_table_data = gpd.read_file(comm_table)\n",
    "    comm_table_data['DIST_RS'] = pd.to_timedelta(comm_table_data['NEAR_DIST_'], unit='s', box=True, errors='raise')\n",
    "    comm_table_data_2 = comm_table_data.set_index('DIST_RS')\n",
    "    comm_table_write = comm_table_data_2.resample('.1S').mean().fillna(method='bfill')\n",
    "    comm_table_write.to_csv(data_path + \"processed/resample/\" + table[:-4] + '_bf.csv')\n",
    "    print(table + \" exported\")\n",
    "    \n",
    "    #comm_table_fn.to_csv(data_path + \"processed/\" + i)"
   ]
  },
  {
   "cell_type": "code",
   "execution_count": 3,
   "metadata": {},
   "outputs": [
    {
     "name": "stdout",
     "output_type": "stream",
     "text": [
      "17\n"
     ]
    }
   ],
   "source": [
    "# START HERE - make a list of the single commmunity tables\n",
    "comm_s_tables = ['community_1.csv', 'community_11.csv', 'community_14.csv', 'community_15.csv', 'community_16.csv', 'community_21.csv', 'community_24.csv', 'community_26.csv', 'community_27.csv', 'community_28.csv',  'community_3.csv', 'community_34.csv', 'community_4.csv', 'community_6.csv', 'community_7.csv', 'community_8.csv', 'community_9.csv']\n",
    "print(len(comm_s_tables))"
   ]
  },
  {
   "cell_type": "code",
   "execution_count": 6,
   "metadata": {},
   "outputs": [
    {
     "data": {
      "text/html": [
       "<div>\n",
       "<style scoped>\n",
       "    .dataframe tbody tr th:only-of-type {\n",
       "        vertical-align: middle;\n",
       "    }\n",
       "\n",
       "    .dataframe tbody tr th {\n",
       "        vertical-align: top;\n",
       "    }\n",
       "\n",
       "    .dataframe thead th {\n",
       "        text-align: right;\n",
       "    }\n",
       "</style>\n",
       "<table border=\"1\" class=\"dataframe\">\n",
       "  <thead>\n",
       "    <tr style=\"text-align: right;\">\n",
       "      <th></th>\n",
       "      <th>DIST_RS</th>\n",
       "      <th>index</th>\n",
       "      <th>Join_Count</th>\n",
       "      <th>TARGET_FID</th>\n",
       "      <th>Total_Pop</th>\n",
       "      <th>Pro_Pop</th>\n",
       "      <th>Comm_Pro</th>\n",
       "      <th>NEAR_FID</th>\n",
       "      <th>NEAR_DIST</th>\n",
       "      <th>NEAR_RANK</th>\n",
       "      <th>NEAR_DIST_</th>\n",
       "      <th>Cum_Pop</th>\n",
       "      <th>Comm_Per</th>\n",
       "      <th>NEAR_ANGLE</th>\n",
       "      <th>distance</th>\n",
       "    </tr>\n",
       "  </thead>\n",
       "  <tbody>\n",
       "    <tr>\n",
       "      <th>0</th>\n",
       "      <td>00:00:00</td>\n",
       "      <td>1298.0</td>\n",
       "      <td>1.0</td>\n",
       "      <td>1299.0</td>\n",
       "      <td>3822.302490</td>\n",
       "      <td>0.440483</td>\n",
       "      <td>15.416895</td>\n",
       "      <td>1299.0</td>\n",
       "      <td>0.000000</td>\n",
       "      <td>1.0</td>\n",
       "      <td>0.000000</td>\n",
       "      <td>15.416895</td>\n",
       "      <td>1.197894</td>\n",
       "      <td>0.000000</td>\n",
       "      <td>00:00:00</td>\n",
       "    </tr>\n",
       "    <tr>\n",
       "      <th>1</th>\n",
       "      <td>00:00:00.100000</td>\n",
       "      <td>1298.0</td>\n",
       "      <td>1.0</td>\n",
       "      <td>1299.0</td>\n",
       "      <td>3822.302490</td>\n",
       "      <td>0.440483</td>\n",
       "      <td>15.416895</td>\n",
       "      <td>1299.0</td>\n",
       "      <td>0.000000</td>\n",
       "      <td>1.0</td>\n",
       "      <td>0.000000</td>\n",
       "      <td>15.416895</td>\n",
       "      <td>1.197894</td>\n",
       "      <td>0.000000</td>\n",
       "      <td>00:00:00.100000</td>\n",
       "    </tr>\n",
       "    <tr>\n",
       "      <th>2</th>\n",
       "      <td>00:00:00.200000</td>\n",
       "      <td>1203.0</td>\n",
       "      <td>1.0</td>\n",
       "      <td>1204.0</td>\n",
       "      <td>1628.773641</td>\n",
       "      <td>0.168604</td>\n",
       "      <td>5.224388</td>\n",
       "      <td>1204.0</td>\n",
       "      <td>0.002506</td>\n",
       "      <td>3.0</td>\n",
       "      <td>0.250642</td>\n",
       "      <td>24.254761</td>\n",
       "      <td>1.884597</td>\n",
       "      <td>75.023628</td>\n",
       "      <td>00:00:00.200000</td>\n",
       "    </tr>\n",
       "    <tr>\n",
       "      <th>3</th>\n",
       "      <td>00:00:00.300000</td>\n",
       "      <td>1154.0</td>\n",
       "      <td>1.0</td>\n",
       "      <td>1155.0</td>\n",
       "      <td>1274.953247</td>\n",
       "      <td>0.108643</td>\n",
       "      <td>2.445715</td>\n",
       "      <td>1155.0</td>\n",
       "      <td>0.003561</td>\n",
       "      <td>5.5</td>\n",
       "      <td>0.356097</td>\n",
       "      <td>35.700775</td>\n",
       "      <td>2.773953</td>\n",
       "      <td>55.410493</td>\n",
       "      <td>00:00:00.300000</td>\n",
       "    </tr>\n",
       "    <tr>\n",
       "      <th>4</th>\n",
       "      <td>00:00:00.400000</td>\n",
       "      <td>1232.0</td>\n",
       "      <td>1.0</td>\n",
       "      <td>1233.0</td>\n",
       "      <td>2078.859863</td>\n",
       "      <td>0.436370</td>\n",
       "      <td>0.968591</td>\n",
       "      <td>1233.0</td>\n",
       "      <td>0.004692</td>\n",
       "      <td>8.0</td>\n",
       "      <td>0.469155</td>\n",
       "      <td>38.132730</td>\n",
       "      <td>2.962916</td>\n",
       "      <td>-46.156076</td>\n",
       "      <td>00:00:00.400000</td>\n",
       "    </tr>\n",
       "  </tbody>\n",
       "</table>\n",
       "</div>"
      ],
      "text/plain": [
       "           DIST_RS   index  Join_Count  TARGET_FID    Total_Pop   Pro_Pop  \\\n",
       "0         00:00:00  1298.0         1.0      1299.0  3822.302490  0.440483   \n",
       "1  00:00:00.100000  1298.0         1.0      1299.0  3822.302490  0.440483   \n",
       "2  00:00:00.200000  1203.0         1.0      1204.0  1628.773641  0.168604   \n",
       "3  00:00:00.300000  1154.0         1.0      1155.0  1274.953247  0.108643   \n",
       "4  00:00:00.400000  1232.0         1.0      1233.0  2078.859863  0.436370   \n",
       "\n",
       "    Comm_Pro  NEAR_FID  NEAR_DIST  NEAR_RANK  NEAR_DIST_    Cum_Pop  Comm_Per  \\\n",
       "0  15.416895    1299.0   0.000000        1.0    0.000000  15.416895  1.197894   \n",
       "1  15.416895    1299.0   0.000000        1.0    0.000000  15.416895  1.197894   \n",
       "2   5.224388    1204.0   0.002506        3.0    0.250642  24.254761  1.884597   \n",
       "3   2.445715    1155.0   0.003561        5.5    0.356097  35.700775  2.773953   \n",
       "4   0.968591    1233.0   0.004692        8.0    0.469155  38.132730  2.962916   \n",
       "\n",
       "   NEAR_ANGLE         distance  \n",
       "0    0.000000         00:00:00  \n",
       "1    0.000000  00:00:00.100000  \n",
       "2   75.023628  00:00:00.200000  \n",
       "3   55.410493  00:00:00.300000  \n",
       "4  -46.156076  00:00:00.400000  "
      ]
     },
     "execution_count": 6,
     "metadata": {},
     "output_type": "execute_result"
    }
   ],
   "source": [
    "# checking one of the tables\n",
    "comm_table = data_path + \"processed/resample/\" + 'community_23.csv'\n",
    "comm_table_data = pd.read_csv(comm_table)\n",
    "\n",
    "for row in range(len(comm_table_data['DIST_RS'])):\n",
    "    comm_table_data.loc[row, 'distance'] = str(comm_table_data.loc[row,'DIST_RS'])\n",
    "    \n",
    "comm_table_data.head()\n"
   ]
  },
  {
   "cell_type": "code",
   "execution_count": 8,
   "metadata": {},
   "outputs": [
    {
     "data": {
      "image/png": "[encoded data removed]",
      "text/plain": [
       "<Figure size 432x288 with 1 Axes>"
      ]
     },
     "metadata": {
      "needs_background": "light"
     },
     "output_type": "display_data"
    }
   ],
   "source": [
    "# graphing one of the tables\n",
    "f, cr_ax = plt.subplots(1)\n",
    "\n",
    "#print(table)\n",
    "comm_table = data_path + \"processed/resample/\" + 'community_23.csv'\n",
    "    #community = table.split('.')[0]\n",
    "    #number = community.split('_')[1]\n",
    "    \n",
    "comm_table_data = pd.read_csv(comm_table)\n",
    "plt.plot(comm_table_data['DIST_RS'], comm_table_data['Comm_Per'])\n",
    "plt.ylabel('Community Population (%)', fontname=\"Roboto\", fontsize=12)\n",
    "#plt.xlabel('Distance from Community High Point (km)', fontname=\"Roboto\", fontsize=12)\n",
    "#plt.title('Single Centred Communities Pop v Distance', fontname=\"Roboto\", fontsize=13)\n",
    "\n",
    "plt.show()\n",
    "    #f.savefig(\"../../figures/\" + community + \"_pop_v_distance.png\", bbox_inches='tight')\n",
    "    #plt.close(f)\n"
   ]
  },
  {
   "cell_type": "code",
   "execution_count": 76,
   "metadata": {},
   "outputs": [],
   "source": [
    "plt.close(f)"
   ]
  },
  {
   "cell_type": "code",
   "execution_count": 77,
   "metadata": {},
   "outputs": [
    {
     "data": {
      "image/png": "[encoded data removed]",
      "text/plain": [
       "<Figure size 432x288 with 1 Axes>"
      ]
     },
     "metadata": {
      "needs_background": "light"
     },
     "output_type": "display_data"
    }
   ],
   "source": [
    "# Old code\n",
    "'''f, cr_ax = plt.subplots(1)\n",
    "\n",
    "for table in comm_s_tables:\n",
    "    #print(table)\n",
    "    comm_table = data_path + \"processed/resample/\" + table\n",
    "    #community = table.split('.')[0]\n",
    "    #number = community.split('_')[1]\n",
    "    \n",
    "    comm_table_data = pd.read_csv(comm_table)\n",
    "    #plt.style.use('seaborn')\n",
    "    plt.plot(comm_table_data['DIST_RS'], comm_table_data['Comm_Per'],color='grey', linewidth=1, alpha=0.4)\n",
    "    #plt.rcParams[\"font.family\"] = \"Avenir\"\n",
    "    plt.ylabel('Community Population (%)', fontname=\"Roboto\", fontsize=12)\n",
    "    plt.xlabel('Distance from Community High Point (km)', fontname=\"Roboto\", fontsize=12)\n",
    "    plt.title('Single Centred Communities Pop v Distance', fontname=\"Roboto\", fontsize=13)\n",
    "    \n",
    "    for tick in cr_ax.get_xticklabels():\n",
    "        tick.set_fontname(\"Roboto\")\n",
    "    for tick in cr_ax.get_yticklabels():\n",
    "        tick.set_fontname(\"Roboto\")\n",
    "    \n",
    "    #cr_ax.legend(loc='lower right')\n",
    "\n",
    "plt.show()\n",
    "    #f.savefig(\"../../figures/\" + community + \"_pop_v_distance.png\", bbox_inches='tight')\n",
    "    #plt.close(f)''''''\n",
    "    "
   ]
  },
  {
   "cell_type": "code",
   "execution_count": 78,
   "metadata": {},
   "outputs": [],
   "source": [
    "plt.close(f)"
   ]
  },
  {
   "cell_type": "code",
   "execution_count": 4,
   "metadata": {},
   "outputs": [],
   "source": [
    "single_comms_mean = pd.DataFrame()"
   ]
  },
  {
   "cell_type": "code",
   "execution_count": 5,
   "metadata": {},
   "outputs": [
    {
     "data": {
      "text/html": [
       "<div>\n",
       "<style scoped>\n",
       "    .dataframe tbody tr th:only-of-type {\n",
       "        vertical-align: middle;\n",
       "    }\n",
       "\n",
       "    .dataframe tbody tr th {\n",
       "        vertical-align: top;\n",
       "    }\n",
       "\n",
       "    .dataframe thead th {\n",
       "        text-align: right;\n",
       "    }\n",
       "</style>\n",
       "<table border=\"1\" class=\"dataframe\">\n",
       "  <thead>\n",
       "    <tr style=\"text-align: right;\">\n",
       "      <th></th>\n",
       "    </tr>\n",
       "  </thead>\n",
       "  <tbody>\n",
       "  </tbody>\n",
       "</table>\n",
       "</div>"
      ],
      "text/plain": [
       "Empty DataFrame\n",
       "Columns: []\n",
       "Index: []"
      ]
     },
     "execution_count": 5,
     "metadata": {},
     "output_type": "execute_result"
    }
   ],
   "source": [
    "single_comms_mean.head()"
   ]
  },
  {
   "cell_type": "code",
   "execution_count": 6,
   "metadata": {},
   "outputs": [],
   "source": [
    "for table in comm_s_tables:\n",
    "    comm_table = data_path + \"processed/resample/\" + table[:-4]+ '_bf.csv'\n",
    "    comm_table_data = pd.read_csv(comm_table)\n",
    "    column_nm = table[:-4]\n",
    "    single_comms_mean[column_nm] = comm_table_data['Comm_Per']"
   ]
  },
  {
   "cell_type": "code",
   "execution_count": 7,
   "metadata": {},
   "outputs": [
    {
     "data": {
      "text/html": [
       "<div>\n",
       "<style scoped>\n",
       "    .dataframe tbody tr th:only-of-type {\n",
       "        vertical-align: middle;\n",
       "    }\n",
       "\n",
       "    .dataframe tbody tr th {\n",
       "        vertical-align: top;\n",
       "    }\n",
       "\n",
       "    .dataframe thead th {\n",
       "        text-align: right;\n",
       "    }\n",
       "</style>\n",
       "<table border=\"1\" class=\"dataframe\">\n",
       "  <thead>\n",
       "    <tr style=\"text-align: right;\">\n",
       "      <th></th>\n",
       "      <th>community_1</th>\n",
       "      <th>community_11</th>\n",
       "      <th>community_14</th>\n",
       "      <th>community_15</th>\n",
       "      <th>community_16</th>\n",
       "      <th>community_21</th>\n",
       "      <th>community_24</th>\n",
       "      <th>community_26</th>\n",
       "      <th>community_27</th>\n",
       "      <th>community_28</th>\n",
       "      <th>community_3</th>\n",
       "      <th>community_34</th>\n",
       "      <th>community_4</th>\n",
       "      <th>community_6</th>\n",
       "      <th>community_7</th>\n",
       "      <th>community_8</th>\n",
       "      <th>community_9</th>\n",
       "    </tr>\n",
       "  </thead>\n",
       "  <tbody>\n",
       "    <tr>\n",
       "      <th>0</th>\n",
       "      <td>1.181045</td>\n",
       "      <td>2.923344</td>\n",
       "      <td>3.130790</td>\n",
       "      <td>1.506493</td>\n",
       "      <td>3.693014</td>\n",
       "      <td>8.756814</td>\n",
       "      <td>5.672279</td>\n",
       "      <td>0.524715</td>\n",
       "      <td>2.371602</td>\n",
       "      <td>9.842701</td>\n",
       "      <td>1.065022</td>\n",
       "      <td>2.713250</td>\n",
       "      <td>1.434343</td>\n",
       "      <td>0.668597</td>\n",
       "      <td>0.789501</td>\n",
       "      <td>2.009719</td>\n",
       "      <td>1.135073</td>\n",
       "    </tr>\n",
       "    <tr>\n",
       "      <th>1</th>\n",
       "      <td>1.388948</td>\n",
       "      <td>3.776751</td>\n",
       "      <td>3.318811</td>\n",
       "      <td>1.610752</td>\n",
       "      <td>3.838830</td>\n",
       "      <td>10.726589</td>\n",
       "      <td>5.722597</td>\n",
       "      <td>0.567254</td>\n",
       "      <td>5.168739</td>\n",
       "      <td>16.277542</td>\n",
       "      <td>1.100164</td>\n",
       "      <td>4.283371</td>\n",
       "      <td>1.679895</td>\n",
       "      <td>0.674026</td>\n",
       "      <td>1.132312</td>\n",
       "      <td>2.266246</td>\n",
       "      <td>1.539187</td>\n",
       "    </tr>\n",
       "    <tr>\n",
       "      <th>2</th>\n",
       "      <td>1.388948</td>\n",
       "      <td>3.776751</td>\n",
       "      <td>3.318811</td>\n",
       "      <td>1.610752</td>\n",
       "      <td>4.910679</td>\n",
       "      <td>16.655712</td>\n",
       "      <td>7.339636</td>\n",
       "      <td>0.567254</td>\n",
       "      <td>5.168739</td>\n",
       "      <td>16.277542</td>\n",
       "      <td>1.492440</td>\n",
       "      <td>4.283371</td>\n",
       "      <td>1.679895</td>\n",
       "      <td>0.674026</td>\n",
       "      <td>1.132312</td>\n",
       "      <td>2.266246</td>\n",
       "      <td>1.981777</td>\n",
       "    </tr>\n",
       "    <tr>\n",
       "      <th>3</th>\n",
       "      <td>2.077484</td>\n",
       "      <td>4.828927</td>\n",
       "      <td>6.931348</td>\n",
       "      <td>2.518109</td>\n",
       "      <td>5.575307</td>\n",
       "      <td>23.305387</td>\n",
       "      <td>8.513662</td>\n",
       "      <td>0.943990</td>\n",
       "      <td>5.168739</td>\n",
       "      <td>16.277542</td>\n",
       "      <td>1.716226</td>\n",
       "      <td>7.516204</td>\n",
       "      <td>2.457832</td>\n",
       "      <td>1.284473</td>\n",
       "      <td>1.958676</td>\n",
       "      <td>3.499975</td>\n",
       "      <td>2.611776</td>\n",
       "    </tr>\n",
       "    <tr>\n",
       "      <th>4</th>\n",
       "      <td>2.786070</td>\n",
       "      <td>5.502798</td>\n",
       "      <td>9.232306</td>\n",
       "      <td>3.540176</td>\n",
       "      <td>6.585002</td>\n",
       "      <td>31.814384</td>\n",
       "      <td>9.114638</td>\n",
       "      <td>1.395121</td>\n",
       "      <td>5.168739</td>\n",
       "      <td>23.650265</td>\n",
       "      <td>2.385720</td>\n",
       "      <td>9.027778</td>\n",
       "      <td>4.786695</td>\n",
       "      <td>1.873933</td>\n",
       "      <td>2.585133</td>\n",
       "      <td>4.251691</td>\n",
       "      <td>3.313561</td>\n",
       "    </tr>\n",
       "  </tbody>\n",
       "</table>\n",
       "</div>"
      ],
      "text/plain": [
       "   community_1  community_11  community_14  community_15  community_16  \\\n",
       "0     1.181045      2.923344      3.130790      1.506493      3.693014   \n",
       "1     1.388948      3.776751      3.318811      1.610752      3.838830   \n",
       "2     1.388948      3.776751      3.318811      1.610752      4.910679   \n",
       "3     2.077484      4.828927      6.931348      2.518109      5.575307   \n",
       "4     2.786070      5.502798      9.232306      3.540176      6.585002   \n",
       "\n",
       "   community_21  community_24  community_26  community_27  community_28  \\\n",
       "0      8.756814      5.672279      0.524715      2.371602      9.842701   \n",
       "1     10.726589      5.722597      0.567254      5.168739     16.277542   \n",
       "2     16.655712      7.339636      0.567254      5.168739     16.277542   \n",
       "3     23.305387      8.513662      0.943990      5.168739     16.277542   \n",
       "4     31.814384      9.114638      1.395121      5.168739     23.650265   \n",
       "\n",
       "   community_3  community_34  community_4  community_6  community_7  \\\n",
       "0     1.065022      2.713250     1.434343     0.668597     0.789501   \n",
       "1     1.100164      4.283371     1.679895     0.674026     1.132312   \n",
       "2     1.492440      4.283371     1.679895     0.674026     1.132312   \n",
       "3     1.716226      7.516204     2.457832     1.284473     1.958676   \n",
       "4     2.385720      9.027778     4.786695     1.873933     2.585133   \n",
       "\n",
       "   community_8  community_9  \n",
       "0     2.009719     1.135073  \n",
       "1     2.266246     1.539187  \n",
       "2     2.266246     1.981777  \n",
       "3     3.499975     2.611776  \n",
       "4     4.251691     3.313561  "
      ]
     },
     "execution_count": 7,
     "metadata": {},
     "output_type": "execute_result"
    }
   ],
   "source": [
    "single_comms_mean.head()"
   ]
  },
  {
   "cell_type": "code",
   "execution_count": 13,
   "metadata": {},
   "outputs": [],
   "source": [
    "single_comms_mean.to_csv(data_path + \"processed/resample/single_comms.csv\")"
   ]
  },
  {
   "cell_type": "code",
   "execution_count": 14,
   "metadata": {},
   "outputs": [
    {
     "name": "stdout",
     "output_type": "stream",
     "text": [
      "../../data/working_files/comm_distpop/\n"
     ]
    }
   ],
   "source": [
    "print(data_path)"
   ]
  },
  {
   "cell_type": "code",
   "execution_count": 8,
   "metadata": {},
   "outputs": [
    {
     "data": {
      "text/html": [
       "<div>\n",
       "<style scoped>\n",
       "    .dataframe tbody tr th:only-of-type {\n",
       "        vertical-align: middle;\n",
       "    }\n",
       "\n",
       "    .dataframe tbody tr th {\n",
       "        vertical-align: top;\n",
       "    }\n",
       "\n",
       "    .dataframe thead th {\n",
       "        text-align: right;\n",
       "    }\n",
       "</style>\n",
       "<table border=\"1\" class=\"dataframe\">\n",
       "  <thead>\n",
       "    <tr style=\"text-align: right;\">\n",
       "      <th></th>\n",
       "      <th>community_1</th>\n",
       "      <th>community_11</th>\n",
       "      <th>community_14</th>\n",
       "      <th>community_15</th>\n",
       "      <th>community_16</th>\n",
       "      <th>community_21</th>\n",
       "      <th>community_24</th>\n",
       "      <th>community_26</th>\n",
       "      <th>community_27</th>\n",
       "      <th>community_28</th>\n",
       "      <th>community_3</th>\n",
       "      <th>community_34</th>\n",
       "      <th>community_4</th>\n",
       "      <th>community_6</th>\n",
       "      <th>community_7</th>\n",
       "      <th>community_8</th>\n",
       "      <th>community_9</th>\n",
       "      <th>average</th>\n",
       "    </tr>\n",
       "  </thead>\n",
       "  <tbody>\n",
       "    <tr>\n",
       "      <th>0</th>\n",
       "      <td>1.181045</td>\n",
       "      <td>2.923344</td>\n",
       "      <td>3.130790</td>\n",
       "      <td>1.506493</td>\n",
       "      <td>3.693014</td>\n",
       "      <td>8.756814</td>\n",
       "      <td>5.672279</td>\n",
       "      <td>0.524715</td>\n",
       "      <td>2.371602</td>\n",
       "      <td>9.842701</td>\n",
       "      <td>1.065022</td>\n",
       "      <td>2.713250</td>\n",
       "      <td>1.434343</td>\n",
       "      <td>0.668597</td>\n",
       "      <td>0.789501</td>\n",
       "      <td>2.009719</td>\n",
       "      <td>1.135073</td>\n",
       "      <td>2.906959</td>\n",
       "    </tr>\n",
       "    <tr>\n",
       "      <th>1</th>\n",
       "      <td>1.388948</td>\n",
       "      <td>3.776751</td>\n",
       "      <td>3.318811</td>\n",
       "      <td>1.610752</td>\n",
       "      <td>3.838830</td>\n",
       "      <td>10.726589</td>\n",
       "      <td>5.722597</td>\n",
       "      <td>0.567254</td>\n",
       "      <td>5.168739</td>\n",
       "      <td>16.277542</td>\n",
       "      <td>1.100164</td>\n",
       "      <td>4.283371</td>\n",
       "      <td>1.679895</td>\n",
       "      <td>0.674026</td>\n",
       "      <td>1.132312</td>\n",
       "      <td>2.266246</td>\n",
       "      <td>1.539187</td>\n",
       "      <td>3.827765</td>\n",
       "    </tr>\n",
       "    <tr>\n",
       "      <th>2</th>\n",
       "      <td>1.388948</td>\n",
       "      <td>3.776751</td>\n",
       "      <td>3.318811</td>\n",
       "      <td>1.610752</td>\n",
       "      <td>4.910679</td>\n",
       "      <td>16.655712</td>\n",
       "      <td>7.339636</td>\n",
       "      <td>0.567254</td>\n",
       "      <td>5.168739</td>\n",
       "      <td>16.277542</td>\n",
       "      <td>1.492440</td>\n",
       "      <td>4.283371</td>\n",
       "      <td>1.679895</td>\n",
       "      <td>0.674026</td>\n",
       "      <td>1.132312</td>\n",
       "      <td>2.266246</td>\n",
       "      <td>1.981777</td>\n",
       "      <td>4.383817</td>\n",
       "    </tr>\n",
       "    <tr>\n",
       "      <th>3</th>\n",
       "      <td>2.077484</td>\n",
       "      <td>4.828927</td>\n",
       "      <td>6.931348</td>\n",
       "      <td>2.518109</td>\n",
       "      <td>5.575307</td>\n",
       "      <td>23.305387</td>\n",
       "      <td>8.513662</td>\n",
       "      <td>0.943990</td>\n",
       "      <td>5.168739</td>\n",
       "      <td>16.277542</td>\n",
       "      <td>1.716226</td>\n",
       "      <td>7.516204</td>\n",
       "      <td>2.457832</td>\n",
       "      <td>1.284473</td>\n",
       "      <td>1.958676</td>\n",
       "      <td>3.499975</td>\n",
       "      <td>2.611776</td>\n",
       "      <td>5.716803</td>\n",
       "    </tr>\n",
       "    <tr>\n",
       "      <th>4</th>\n",
       "      <td>2.786070</td>\n",
       "      <td>5.502798</td>\n",
       "      <td>9.232306</td>\n",
       "      <td>3.540176</td>\n",
       "      <td>6.585002</td>\n",
       "      <td>31.814384</td>\n",
       "      <td>9.114638</td>\n",
       "      <td>1.395121</td>\n",
       "      <td>5.168739</td>\n",
       "      <td>23.650265</td>\n",
       "      <td>2.385720</td>\n",
       "      <td>9.027778</td>\n",
       "      <td>4.786695</td>\n",
       "      <td>1.873933</td>\n",
       "      <td>2.585133</td>\n",
       "      <td>4.251691</td>\n",
       "      <td>3.313561</td>\n",
       "      <td>7.471412</td>\n",
       "    </tr>\n",
       "  </tbody>\n",
       "</table>\n",
       "</div>"
      ],
      "text/plain": [
       "   community_1  community_11  community_14  community_15  community_16  \\\n",
       "0     1.181045      2.923344      3.130790      1.506493      3.693014   \n",
       "1     1.388948      3.776751      3.318811      1.610752      3.838830   \n",
       "2     1.388948      3.776751      3.318811      1.610752      4.910679   \n",
       "3     2.077484      4.828927      6.931348      2.518109      5.575307   \n",
       "4     2.786070      5.502798      9.232306      3.540176      6.585002   \n",
       "\n",
       "   community_21  community_24  community_26  community_27  community_28  \\\n",
       "0      8.756814      5.672279      0.524715      2.371602      9.842701   \n",
       "1     10.726589      5.722597      0.567254      5.168739     16.277542   \n",
       "2     16.655712      7.339636      0.567254      5.168739     16.277542   \n",
       "3     23.305387      8.513662      0.943990      5.168739     16.277542   \n",
       "4     31.814384      9.114638      1.395121      5.168739     23.650265   \n",
       "\n",
       "   community_3  community_34  community_4  community_6  community_7  \\\n",
       "0     1.065022      2.713250     1.434343     0.668597     0.789501   \n",
       "1     1.100164      4.283371     1.679895     0.674026     1.132312   \n",
       "2     1.492440      4.283371     1.679895     0.674026     1.132312   \n",
       "3     1.716226      7.516204     2.457832     1.284473     1.958676   \n",
       "4     2.385720      9.027778     4.786695     1.873933     2.585133   \n",
       "\n",
       "   community_8  community_9   average  \n",
       "0     2.009719     1.135073  2.906959  \n",
       "1     2.266246     1.539187  3.827765  \n",
       "2     2.266246     1.981777  4.383817  \n",
       "3     3.499975     2.611776  5.716803  \n",
       "4     4.251691     3.313561  7.471412  "
      ]
     },
     "execution_count": 8,
     "metadata": {},
     "output_type": "execute_result"
    }
   ],
   "source": [
    "single_comms_mean['average'] = single_comms_mean.mean(axis=1)\n",
    "single_comms_mean.head()"
   ]
  },
  {
   "cell_type": "code",
   "execution_count": 9,
   "metadata": {},
   "outputs": [
    {
     "name": "stderr",
     "output_type": "stream",
     "text": [
      "C:\\Users\\jowilkin\\Anaconda2\\lib\\site-packages\\matplotlib\\font_manager.py:1331: UserWarning: findfont: Font family [u'Roboto'] not found. Falling back to DejaVu Sans\n",
      "  (prop.get_family(), self.defaultFamily[fontext]))\n"
     ]
    },
    {
     "data": {
      "image/png": "[encoded data removed]",
      "text/plain": [
       "<Figure size 432x288 with 1 Axes>"
      ]
     },
     "metadata": {
      "needs_background": "light"
     },
     "output_type": "display_data"
    }
   ],
   "source": [
    "f, cr_ax = plt.subplots(1)\n",
    "\n",
    "plt.plot(single_comms_mean['average'])\n",
    "plt.ylabel('Community Population (%)', fontname=\"Roboto\", fontsize=12)\n",
    "#plt.xlabel('Distance from Community High Point (km)', fontname=\"Roboto\", fontsize=12)\n",
    "#plt.title('Single Centred Communities Pop v Distance', fontname=\"Roboto\", fontsize=13)\n",
    "\n",
    "plt.show()\n",
    "    #f.savefig(\"../../figures/\" + community + \"_pop_v_distance.png\", bbox_inches='tight')\n"
   ]
  },
  {
   "cell_type": "code",
   "execution_count": 10,
   "metadata": {},
   "outputs": [],
   "source": [
    "plt.close(f)"
   ]
  },
  {
   "cell_type": "code",
   "execution_count": 11,
   "metadata": {},
   "outputs": [],
   "source": [
    "single_comms_mean['std'] = single_comms_mean.std(axis=1)"
   ]
  },
  {
   "cell_type": "code",
   "execution_count": 12,
   "metadata": {},
   "outputs": [],
   "source": [
    "for row in range(len(single_comms_mean['average'])):\n",
    "    #print row\n",
    "    single_comms_mean.loc[row,'std_plus'] = single_comms_mean.loc[row,'average'] + single_comms_mean.loc[row,'std']\n",
    "    single_comms_mean.loc[row,'std_minus'] = single_comms_mean.loc[row,'average'] - single_comms_mean.loc[row,'std']"
   ]
  },
  {
   "cell_type": "code",
   "execution_count": 13,
   "metadata": {},
   "outputs": [
    {
     "data": {
      "text/html": [
       "<div>\n",
       "<style scoped>\n",
       "    .dataframe tbody tr th:only-of-type {\n",
       "        vertical-align: middle;\n",
       "    }\n",
       "\n",
       "    .dataframe tbody tr th {\n",
       "        vertical-align: top;\n",
       "    }\n",
       "\n",
       "    .dataframe thead th {\n",
       "        text-align: right;\n",
       "    }\n",
       "</style>\n",
       "<table border=\"1\" class=\"dataframe\">\n",
       "  <thead>\n",
       "    <tr style=\"text-align: right;\">\n",
       "      <th></th>\n",
       "      <th>community_1</th>\n",
       "      <th>community_11</th>\n",
       "      <th>community_14</th>\n",
       "      <th>community_15</th>\n",
       "      <th>community_16</th>\n",
       "      <th>community_21</th>\n",
       "      <th>community_24</th>\n",
       "      <th>community_26</th>\n",
       "      <th>community_27</th>\n",
       "      <th>community_28</th>\n",
       "      <th>...</th>\n",
       "      <th>community_34</th>\n",
       "      <th>community_4</th>\n",
       "      <th>community_6</th>\n",
       "      <th>community_7</th>\n",
       "      <th>community_8</th>\n",
       "      <th>community_9</th>\n",
       "      <th>average</th>\n",
       "      <th>std</th>\n",
       "      <th>std_plus</th>\n",
       "      <th>std_minus</th>\n",
       "    </tr>\n",
       "  </thead>\n",
       "  <tbody>\n",
       "    <tr>\n",
       "      <th>0</th>\n",
       "      <td>1.181045</td>\n",
       "      <td>2.923344</td>\n",
       "      <td>3.130790</td>\n",
       "      <td>1.506493</td>\n",
       "      <td>3.693014</td>\n",
       "      <td>8.756814</td>\n",
       "      <td>5.672279</td>\n",
       "      <td>0.524715</td>\n",
       "      <td>2.371602</td>\n",
       "      <td>9.842701</td>\n",
       "      <td>...</td>\n",
       "      <td>2.713250</td>\n",
       "      <td>1.434343</td>\n",
       "      <td>0.668597</td>\n",
       "      <td>0.789501</td>\n",
       "      <td>2.009719</td>\n",
       "      <td>1.135073</td>\n",
       "      <td>2.906959</td>\n",
       "      <td>2.663254</td>\n",
       "      <td>5.570213</td>\n",
       "      <td>0.243704</td>\n",
       "    </tr>\n",
       "    <tr>\n",
       "      <th>1</th>\n",
       "      <td>1.388948</td>\n",
       "      <td>3.776751</td>\n",
       "      <td>3.318811</td>\n",
       "      <td>1.610752</td>\n",
       "      <td>3.838830</td>\n",
       "      <td>10.726589</td>\n",
       "      <td>5.722597</td>\n",
       "      <td>0.567254</td>\n",
       "      <td>5.168739</td>\n",
       "      <td>16.277542</td>\n",
       "      <td>...</td>\n",
       "      <td>4.283371</td>\n",
       "      <td>1.679895</td>\n",
       "      <td>0.674026</td>\n",
       "      <td>1.132312</td>\n",
       "      <td>2.266246</td>\n",
       "      <td>1.539187</td>\n",
       "      <td>3.827765</td>\n",
       "      <td>3.962198</td>\n",
       "      <td>7.789963</td>\n",
       "      <td>-0.134432</td>\n",
       "    </tr>\n",
       "    <tr>\n",
       "      <th>2</th>\n",
       "      <td>1.388948</td>\n",
       "      <td>3.776751</td>\n",
       "      <td>3.318811</td>\n",
       "      <td>1.610752</td>\n",
       "      <td>4.910679</td>\n",
       "      <td>16.655712</td>\n",
       "      <td>7.339636</td>\n",
       "      <td>0.567254</td>\n",
       "      <td>5.168739</td>\n",
       "      <td>16.277542</td>\n",
       "      <td>...</td>\n",
       "      <td>4.283371</td>\n",
       "      <td>1.679895</td>\n",
       "      <td>0.674026</td>\n",
       "      <td>1.132312</td>\n",
       "      <td>2.266246</td>\n",
       "      <td>1.981777</td>\n",
       "      <td>4.383817</td>\n",
       "      <td>4.756969</td>\n",
       "      <td>9.140786</td>\n",
       "      <td>-0.373152</td>\n",
       "    </tr>\n",
       "    <tr>\n",
       "      <th>3</th>\n",
       "      <td>2.077484</td>\n",
       "      <td>4.828927</td>\n",
       "      <td>6.931348</td>\n",
       "      <td>2.518109</td>\n",
       "      <td>5.575307</td>\n",
       "      <td>23.305387</td>\n",
       "      <td>8.513662</td>\n",
       "      <td>0.943990</td>\n",
       "      <td>5.168739</td>\n",
       "      <td>16.277542</td>\n",
       "      <td>...</td>\n",
       "      <td>7.516204</td>\n",
       "      <td>2.457832</td>\n",
       "      <td>1.284473</td>\n",
       "      <td>1.958676</td>\n",
       "      <td>3.499975</td>\n",
       "      <td>2.611776</td>\n",
       "      <td>5.716803</td>\n",
       "      <td>5.717557</td>\n",
       "      <td>11.434360</td>\n",
       "      <td>-0.000753</td>\n",
       "    </tr>\n",
       "    <tr>\n",
       "      <th>4</th>\n",
       "      <td>2.786070</td>\n",
       "      <td>5.502798</td>\n",
       "      <td>9.232306</td>\n",
       "      <td>3.540176</td>\n",
       "      <td>6.585002</td>\n",
       "      <td>31.814384</td>\n",
       "      <td>9.114638</td>\n",
       "      <td>1.395121</td>\n",
       "      <td>5.168739</td>\n",
       "      <td>23.650265</td>\n",
       "      <td>...</td>\n",
       "      <td>9.027778</td>\n",
       "      <td>4.786695</td>\n",
       "      <td>1.873933</td>\n",
       "      <td>2.585133</td>\n",
       "      <td>4.251691</td>\n",
       "      <td>3.313561</td>\n",
       "      <td>7.471412</td>\n",
       "      <td>7.906752</td>\n",
       "      <td>15.378165</td>\n",
       "      <td>-0.435340</td>\n",
       "    </tr>\n",
       "  </tbody>\n",
       "</table>\n",
       "<p>5 rows × 21 columns</p>\n",
       "</div>"
      ],
      "text/plain": [
       "   community_1  community_11  community_14  community_15  community_16  \\\n",
       "0     1.181045      2.923344      3.130790      1.506493      3.693014   \n",
       "1     1.388948      3.776751      3.318811      1.610752      3.838830   \n",
       "2     1.388948      3.776751      3.318811      1.610752      4.910679   \n",
       "3     2.077484      4.828927      6.931348      2.518109      5.575307   \n",
       "4     2.786070      5.502798      9.232306      3.540176      6.585002   \n",
       "\n",
       "   community_21  community_24  community_26  community_27  community_28  \\\n",
       "0      8.756814      5.672279      0.524715      2.371602      9.842701   \n",
       "1     10.726589      5.722597      0.567254      5.168739     16.277542   \n",
       "2     16.655712      7.339636      0.567254      5.168739     16.277542   \n",
       "3     23.305387      8.513662      0.943990      5.168739     16.277542   \n",
       "4     31.814384      9.114638      1.395121      5.168739     23.650265   \n",
       "\n",
       "     ...      community_34  community_4  community_6  community_7  \\\n",
       "0    ...          2.713250     1.434343     0.668597     0.789501   \n",
       "1    ...          4.283371     1.679895     0.674026     1.132312   \n",
       "2    ...          4.283371     1.679895     0.674026     1.132312   \n",
       "3    ...          7.516204     2.457832     1.284473     1.958676   \n",
       "4    ...          9.027778     4.786695     1.873933     2.585133   \n",
       "\n",
       "   community_8  community_9   average       std   std_plus  std_minus  \n",
       "0     2.009719     1.135073  2.906959  2.663254   5.570213   0.243704  \n",
       "1     2.266246     1.539187  3.827765  3.962198   7.789963  -0.134432  \n",
       "2     2.266246     1.981777  4.383817  4.756969   9.140786  -0.373152  \n",
       "3     3.499975     2.611776  5.716803  5.717557  11.434360  -0.000753  \n",
       "4     4.251691     3.313561  7.471412  7.906752  15.378165  -0.435340  \n",
       "\n",
       "[5 rows x 21 columns]"
      ]
     },
     "execution_count": 13,
     "metadata": {},
     "output_type": "execute_result"
    }
   ],
   "source": [
    "single_comms_mean.head()"
   ]
  },
  {
   "cell_type": "code",
   "execution_count": 14,
   "metadata": {},
   "outputs": [],
   "source": [
    "single_comms_mean['distance'] = range(0,len(single_comms_mean['average']) )"
   ]
  },
  {
   "cell_type": "code",
   "execution_count": 15,
   "metadata": {
    "scrolled": true
   },
   "outputs": [
    {
     "data": {
      "text/plain": [
       "<matplotlib.collections.PolyCollection at 0xf500550>"
      ]
     },
     "execution_count": 15,
     "metadata": {},
     "output_type": "execute_result"
    },
    {
     "data": {
      "image/png": "[encoded data removed]",
      "text/plain": [
       "<Figure size 540x396 with 1 Axes>"
      ]
     },
     "metadata": {
      "needs_background": "light"
     },
     "output_type": "display_data"
    }
   ],
   "source": [
    "#f, cr_ax = plt.subplots(1)\n",
    "\n",
    "#plt.plot(single_comms_mean['average'])\n",
    "#plt.plot(single_comms_mean['std_plus'])\n",
    "#plt.plot(single_comms_mean['std_minus'])\n",
    "#plt.ylabel('Community Population (%)', fontname=\"Roboto\", fontsize=12)\n",
    "#plt.xlabel('Distance from Community High Point (km)', fontname=\"Roboto\", fontsize=12)\n",
    "#plt.title('Single Centred Communities Pop v Distance', fontname=\"Roboto\", fontsize=13)\n",
    "\n",
    "#plt.show()\n",
    "#f.savefig(\"../../figures/\" + \"_pop_v_distance_std.png\", bbox_inches='tight')\n",
    "    #plt.close(f)\n",
    "\n",
    "ave = single_comms_mean['average']\n",
    "std = single_comms_mean['std']\n",
    "#stp = dual_comms_mean['std_plus']\n",
    "#std = dual_comms_mean['std_minus']\n",
    "x = single_comms_mean['distance']\n",
    "\n",
    "fig, ax = plt.subplots(figsize=(7.5,5.5))\n",
    "#plt.style.use('')\n",
    "ax.plot(x/10, ave,color='slategrey')\n",
    "ax.fill_between(x/10, ave - std, ave + std, alpha=0.2,color='lightslategrey')\n",
    "\n",
    "#plt.ylabel('Community Population (%)', fontname=\"Roboto\", fontsize=12)\n",
    "#plt.xlabel('Distance from Community High Point (km)', fontname=\"Roboto\", fontsize=12)"
   ]
  },
  {
   "cell_type": "code",
   "execution_count": 17,
   "metadata": {},
   "outputs": [],
   "source": [
    "f.savefig(data_path + \"single.png\", bbox_inches='tight')\n",
    "plt.close(f)"
   ]
  },
  {
   "cell_type": "code",
   "execution_count": 18,
   "metadata": {},
   "outputs": [
    {
     "name": "stdout",
     "output_type": "stream",
     "text": [
      "8\n"
     ]
    }
   ],
   "source": [
    "comm_du_tables = ['community_10.csv', 'community_12.csv', 'community_13.csv', 'community_18.csv','community_23.csv', 'community_25.csv', 'community_20.csv', 'community_29.csv',]\n",
    "print(len(comm_du_tables))"
   ]
  },
  {
   "cell_type": "code",
   "execution_count": 19,
   "metadata": {},
   "outputs": [],
   "source": [
    "dual_comms_mean = pd.DataFrame()"
   ]
  },
  {
   "cell_type": "code",
   "execution_count": 20,
   "metadata": {},
   "outputs": [],
   "source": [
    "for table in comm_du_tables:\n",
    "    #print(table)\n",
    "    comm_table = data_path + \"processed/resample/\" + table[:-4]+ '_bf.csv'\n",
    "    comm_table_data = pd.read_csv(comm_table)\n",
    "    column_nm = table[:-4]\n",
    "    dual_comms_mean[column_nm] = comm_table_data['Comm_Per']"
   ]
  },
  {
   "cell_type": "code",
   "execution_count": 21,
   "metadata": {},
   "outputs": [
    {
     "data": {
      "text/html": [
       "<div>\n",
       "<style scoped>\n",
       "    .dataframe tbody tr th:only-of-type {\n",
       "        vertical-align: middle;\n",
       "    }\n",
       "\n",
       "    .dataframe tbody tr th {\n",
       "        vertical-align: top;\n",
       "    }\n",
       "\n",
       "    .dataframe thead th {\n",
       "        text-align: right;\n",
       "    }\n",
       "</style>\n",
       "<table border=\"1\" class=\"dataframe\">\n",
       "  <thead>\n",
       "    <tr style=\"text-align: right;\">\n",
       "      <th></th>\n",
       "      <th>community_10</th>\n",
       "      <th>community_12</th>\n",
       "      <th>community_13</th>\n",
       "      <th>community_18</th>\n",
       "      <th>community_23</th>\n",
       "      <th>community_25</th>\n",
       "      <th>community_20</th>\n",
       "      <th>community_29</th>\n",
       "      <th>average</th>\n",
       "    </tr>\n",
       "  </thead>\n",
       "  <tbody>\n",
       "    <tr>\n",
       "      <th>0</th>\n",
       "      <td>0.974650</td>\n",
       "      <td>1.092480</td>\n",
       "      <td>0.551912</td>\n",
       "      <td>1.315651</td>\n",
       "      <td>1.197894</td>\n",
       "      <td>1.913937</td>\n",
       "      <td>1.543074</td>\n",
       "      <td>0.711692</td>\n",
       "      <td>1.162661</td>\n",
       "    </tr>\n",
       "    <tr>\n",
       "      <th>1</th>\n",
       "      <td>1.321786</td>\n",
       "      <td>2.119682</td>\n",
       "      <td>0.571361</td>\n",
       "      <td>1.481287</td>\n",
       "      <td>1.884597</td>\n",
       "      <td>1.947602</td>\n",
       "      <td>2.010886</td>\n",
       "      <td>0.727019</td>\n",
       "      <td>1.508028</td>\n",
       "    </tr>\n",
       "    <tr>\n",
       "      <th>2</th>\n",
       "      <td>1.321786</td>\n",
       "      <td>2.119682</td>\n",
       "      <td>0.813525</td>\n",
       "      <td>1.481287</td>\n",
       "      <td>1.884597</td>\n",
       "      <td>2.797120</td>\n",
       "      <td>2.010886</td>\n",
       "      <td>0.727019</td>\n",
       "      <td>1.644488</td>\n",
       "    </tr>\n",
       "    <tr>\n",
       "      <th>3</th>\n",
       "      <td>1.622704</td>\n",
       "      <td>2.119682</td>\n",
       "      <td>1.133013</td>\n",
       "      <td>2.190021</td>\n",
       "      <td>2.773953</td>\n",
       "      <td>3.231658</td>\n",
       "      <td>2.813717</td>\n",
       "      <td>1.536055</td>\n",
       "      <td>2.177600</td>\n",
       "    </tr>\n",
       "    <tr>\n",
       "      <th>4</th>\n",
       "      <td>2.500725</td>\n",
       "      <td>3.154014</td>\n",
       "      <td>1.502071</td>\n",
       "      <td>2.778048</td>\n",
       "      <td>2.962916</td>\n",
       "      <td>3.427269</td>\n",
       "      <td>4.998157</td>\n",
       "      <td>1.886027</td>\n",
       "      <td>2.901153</td>\n",
       "    </tr>\n",
       "  </tbody>\n",
       "</table>\n",
       "</div>"
      ],
      "text/plain": [
       "   community_10  community_12  community_13  community_18  community_23  \\\n",
       "0      0.974650      1.092480      0.551912      1.315651      1.197894   \n",
       "1      1.321786      2.119682      0.571361      1.481287      1.884597   \n",
       "2      1.321786      2.119682      0.813525      1.481287      1.884597   \n",
       "3      1.622704      2.119682      1.133013      2.190021      2.773953   \n",
       "4      2.500725      3.154014      1.502071      2.778048      2.962916   \n",
       "\n",
       "   community_25  community_20  community_29   average  \n",
       "0      1.913937      1.543074      0.711692  1.162661  \n",
       "1      1.947602      2.010886      0.727019  1.508028  \n",
       "2      2.797120      2.010886      0.727019  1.644488  \n",
       "3      3.231658      2.813717      1.536055  2.177600  \n",
       "4      3.427269      4.998157      1.886027  2.901153  "
      ]
     },
     "execution_count": 21,
     "metadata": {},
     "output_type": "execute_result"
    }
   ],
   "source": [
    "dual_comms_mean['average'] = dual_comms_mean.mean(axis=1)\n",
    "dual_comms_mean.head()"
   ]
  },
  {
   "cell_type": "code",
   "execution_count": 22,
   "metadata": {},
   "outputs": [],
   "source": [
    "dual_comms_mean['std'] = dual_comms_mean.std(axis=1)"
   ]
  },
  {
   "cell_type": "code",
   "execution_count": 23,
   "metadata": {},
   "outputs": [],
   "source": [
    "for row in range(len(dual_comms_mean['average'])):\n",
    "    #print row\n",
    "    dual_comms_mean.loc[row,'std_plus'] = dual_comms_mean.loc[row,'average'] + dual_comms_mean.loc[row,'std']\n",
    "    dual_comms_mean.loc[row,'std_minus'] = dual_comms_mean.loc[row,'average'] - dual_comms_mean.loc[row,'std']"
   ]
  },
  {
   "cell_type": "code",
   "execution_count": 24,
   "metadata": {},
   "outputs": [],
   "source": [
    "dual_comms_mean['distance'] = range(0,len(dual_comms_mean['average']) )"
   ]
  },
  {
   "cell_type": "code",
   "execution_count": 25,
   "metadata": {},
   "outputs": [
    {
     "data": {
      "text/plain": [
       "<matplotlib.collections.PolyCollection at 0x10c18e48>"
      ]
     },
     "execution_count": 25,
     "metadata": {},
     "output_type": "execute_result"
    },
    {
     "data": {
      "image/png": "[encoded data removed]",
      "text/plain": [
       "<Figure size 540x396 with 1 Axes>"
      ]
     },
     "metadata": {
      "needs_background": "light"
     },
     "output_type": "display_data"
    }
   ],
   "source": [
    "ave = dual_comms_mean['average']\n",
    "std = dual_comms_mean['std']\n",
    "#stp = dual_comms_mean['std_plus']\n",
    "#std = dual_comms_mean['std_minus']\n",
    "x = dual_comms_mean['distance']\n",
    "\n",
    "fig, ax = plt.subplots(figsize=(7.5,5.5))\n",
    "#plt.style.use('')\n",
    "ax.plot(x/10, ave,color='slategrey')\n",
    "ax.fill_between(x/10, ave - std, ave + std, alpha=0.2,color='lightslategrey')\n",
    "\n",
    "#plt.ylabel('Community Population (%)', fontname=\"Roboto\", fontsize=12)\n",
    "#plt.xlabel('Distance from Community High Point (km)', fontname=\"Roboto\", fontsize=12)"
   ]
  },
  {
   "cell_type": "code",
   "execution_count": 26,
   "metadata": {},
   "outputs": [],
   "source": [
    "plt.close(f)"
   ]
  },
  {
   "cell_type": "code",
   "execution_count": 27,
   "metadata": {},
   "outputs": [],
   "source": [
    "plt.close()"
   ]
  },
  {
   "cell_type": "code",
   "execution_count": 22,
   "metadata": {},
   "outputs": [
    {
     "data": {
      "image/png": "[encoded data removed]",
      "text/plain": [
       "<Figure size 432x288 with 1 Axes>"
      ]
     },
     "metadata": {
      "needs_background": "light"
     },
     "output_type": "display_data"
    }
   ],
   "source": [
    "f, cr_ax = plt.subplots(1)\n",
    "\n",
    "for table in comm_du_tables:\n",
    "    #print(table)\n",
    "    comm_table = data_path + \"processed/\" + table\n",
    "    #community = table.split('.')[0]\n",
    "    #number = community.split('_')[1]\n",
    "    \n",
    "    comm_table_data = gpd.read_file(comm_table)\n",
    "    plt.plot(comm_table_data['NEAR_DIST_'], comm_table_data['Comm_Per'])\n",
    "    plt.ylabel('Community Population (%)')\n",
    "    plt.xlabel('Distance from Community High Point (km)')\n",
    "    plt.title('Dual Centred Communities Pop v Distance')\n",
    "\n",
    "plt.show()\n",
    "    #f.savefig(\"../../figures/\" + community + \"_pop_v_distance.png\", bbox_inches='tight')\n",
    "    #plt.close(f)\n",
    "    "
   ]
  },
  {
   "cell_type": "code",
   "execution_count": 14,
   "metadata": {},
   "outputs": [],
   "source": [
    "plt.close(f)"
   ]
  },
  {
   "cell_type": "code",
   "execution_count": 28,
   "metadata": {},
   "outputs": [
    {
     "name": "stdout",
     "output_type": "stream",
     "text": [
      "5\n"
     ]
    }
   ],
   "source": [
    "comm_z_tables = ['community_0.shp', 'community_2.shp','community_5.shp','community_17.shp', 'community_19.shp']\n",
    "print(len(comm_z_tables))"
   ]
  },
  {
   "cell_type": "code",
   "execution_count": 29,
   "metadata": {},
   "outputs": [
    {
     "data": {
      "image/png": "[encoded data removed]",
      "text/plain": [
       "<Figure size 432x288 with 1 Axes>"
      ]
     },
     "metadata": {
      "needs_background": "light"
     },
     "output_type": "display_data"
    }
   ],
   "source": [
    "f, cr_ax = plt.subplots(1)\n",
    "\n",
    "for table in comm_z_tables:\n",
    "    #print(table)\n",
    "    comm_table = data_path + \"processed/\" + table\n",
    "    #community = table.split('.')[0]\n",
    "    #number = community.split('_')[1]\n",
    "    \n",
    "    comm_table_data = gpd.read_file(comm_table)\n",
    "    plt.plot(comm_table_data['NEAR_DIST_'], comm_table_data['Comm_Per'])\n",
    "    plt.ylabel('Community Population (%)')\n",
    "    plt.xlabel('Distance from Community High Point (km)')\n",
    "    plt.title('Zonal Centred Communities Pop v Distance')\n",
    "\n",
    "plt.show()\n",
    "    #f.savefig(\"../../figures/\" + community + \"_pop_v_distance.png\", bbox_inches='tight')\n",
    "    #plt.close(f)\n",
    "    "
   ]
  },
  {
   "cell_type": "code",
   "execution_count": 30,
   "metadata": {},
   "outputs": [],
   "source": [
    "plt.close(f)"
   ]
  },
  {
   "cell_type": "code",
   "execution_count": 31,
   "metadata": {},
   "outputs": [],
   "source": [
    "zonal_comms_mean = pd.DataFrame()"
   ]
  },
  {
   "cell_type": "code",
   "execution_count": 33,
   "metadata": {},
   "outputs": [],
   "source": [
    "for table in comm_z_tables:\n",
    "    #print(table)\n",
    "    comm_table = data_path + \"processed/resample/\" + table[:-4]+ '_bf.csv'\n",
    "    comm_table_data = pd.read_csv(comm_table)\n",
    "    column_nm = table[:-4]\n",
    "    zonal_comms_mean[column_nm] = comm_table_data['Comm_Per']"
   ]
  },
  {
   "cell_type": "code",
   "execution_count": 34,
   "metadata": {},
   "outputs": [
    {
     "data": {
      "text/html": [
       "<div>\n",
       "<style scoped>\n",
       "    .dataframe tbody tr th:only-of-type {\n",
       "        vertical-align: middle;\n",
       "    }\n",
       "\n",
       "    .dataframe tbody tr th {\n",
       "        vertical-align: top;\n",
       "    }\n",
       "\n",
       "    .dataframe thead th {\n",
       "        text-align: right;\n",
       "    }\n",
       "</style>\n",
       "<table border=\"1\" class=\"dataframe\">\n",
       "  <thead>\n",
       "    <tr style=\"text-align: right;\">\n",
       "      <th></th>\n",
       "      <th>community_0</th>\n",
       "      <th>community_2</th>\n",
       "      <th>community_5</th>\n",
       "      <th>community_17</th>\n",
       "      <th>community_19</th>\n",
       "      <th>average</th>\n",
       "    </tr>\n",
       "  </thead>\n",
       "  <tbody>\n",
       "    <tr>\n",
       "      <th>0</th>\n",
       "      <td>0.406000</td>\n",
       "      <td>0.944854</td>\n",
       "      <td>0.815204</td>\n",
       "      <td>0.448697</td>\n",
       "      <td>0.486697</td>\n",
       "      <td>0.620290</td>\n",
       "    </tr>\n",
       "    <tr>\n",
       "      <th>1</th>\n",
       "      <td>0.787741</td>\n",
       "      <td>1.400700</td>\n",
       "      <td>1.352160</td>\n",
       "      <td>0.476851</td>\n",
       "      <td>1.016691</td>\n",
       "      <td>1.006828</td>\n",
       "    </tr>\n",
       "    <tr>\n",
       "      <th>2</th>\n",
       "      <td>0.787741</td>\n",
       "      <td>1.400700</td>\n",
       "      <td>1.352160</td>\n",
       "      <td>0.534009</td>\n",
       "      <td>1.016691</td>\n",
       "      <td>1.018260</td>\n",
       "    </tr>\n",
       "    <tr>\n",
       "      <th>3</th>\n",
       "      <td>0.787741</td>\n",
       "      <td>2.207060</td>\n",
       "      <td>1.352160</td>\n",
       "      <td>0.732788</td>\n",
       "      <td>1.016691</td>\n",
       "      <td>1.219288</td>\n",
       "    </tr>\n",
       "    <tr>\n",
       "      <th>4</th>\n",
       "      <td>1.172131</td>\n",
       "      <td>3.151645</td>\n",
       "      <td>2.296876</td>\n",
       "      <td>0.994071</td>\n",
       "      <td>1.016691</td>\n",
       "      <td>1.726283</td>\n",
       "    </tr>\n",
       "  </tbody>\n",
       "</table>\n",
       "</div>"
      ],
      "text/plain": [
       "   community_0  community_2  community_5  community_17  community_19   average\n",
       "0     0.406000     0.944854     0.815204      0.448697      0.486697  0.620290\n",
       "1     0.787741     1.400700     1.352160      0.476851      1.016691  1.006828\n",
       "2     0.787741     1.400700     1.352160      0.534009      1.016691  1.018260\n",
       "3     0.787741     2.207060     1.352160      0.732788      1.016691  1.219288\n",
       "4     1.172131     3.151645     2.296876      0.994071      1.016691  1.726283"
      ]
     },
     "execution_count": 34,
     "metadata": {},
     "output_type": "execute_result"
    }
   ],
   "source": [
    "zonal_comms_mean['average'] = zonal_comms_mean.mean(axis=1)\n",
    "zonal_comms_mean.head()"
   ]
  },
  {
   "cell_type": "code",
   "execution_count": 35,
   "metadata": {},
   "outputs": [],
   "source": [
    "zonal_comms_mean['std'] = zonal_comms_mean.std(axis=1)"
   ]
  },
  {
   "cell_type": "code",
   "execution_count": 36,
   "metadata": {},
   "outputs": [],
   "source": [
    "for row in range(len(zonal_comms_mean['average'])):\n",
    "    #print row\n",
    "    zonal_comms_mean.loc[row,'std_plus'] = zonal_comms_mean.loc[row,'average'] + zonal_comms_mean.loc[row,'std']\n",
    "    zonal_comms_mean.loc[row,'std_minus'] = zonal_comms_mean.loc[row,'average'] - zonal_comms_mean.loc[row,'std']"
   ]
  },
  {
   "cell_type": "code",
   "execution_count": 39,
   "metadata": {},
   "outputs": [],
   "source": [
    "zonal_comms_mean['distance'] = range(0,len(zonal_comms_mean['average']) )"
   ]
  },
  {
   "cell_type": "code",
   "execution_count": 40,
   "metadata": {},
   "outputs": [
    {
     "data": {
      "image/png": "[encoded data removed]",
      "text/plain": [
       "<Figure size 432x288 with 1 Axes>"
      ]
     },
     "metadata": {
      "needs_background": "light"
     },
     "output_type": "display_data"
    }
   ],
   "source": [
    "f, cr_ax = plt.subplots(1)\n",
    "\n",
    "for table in comm_z_tables:\n",
    "    #print(table)\n",
    "    comm_table = data_path + \"processed/\" + table\n",
    "    #community = table.split('.')[0]\n",
    "    #number = community.split('_')[1]\n",
    "    \n",
    "    comm_table_data = gpd.read_file(comm_table)\n",
    "    plt.plot(comm_table_data['NEAR_DIST_'], comm_table_data['Comm_Per'])\n",
    "    plt.ylabel('Community Population (%)')\n",
    "    plt.xlabel('Distance from Community High Point (km)')\n",
    "    plt.title('Zonal Centred Communities Pop v Distance')\n",
    "\n",
    "plt.show()"
   ]
  },
  {
   "cell_type": "code",
   "execution_count": 41,
   "metadata": {},
   "outputs": [],
   "source": [
    "plt.close()"
   ]
  },
  {
   "cell_type": "code",
   "execution_count": 42,
   "metadata": {},
   "outputs": [
    {
     "data": {
      "text/plain": [
       "<matplotlib.collections.PolyCollection at 0x15599978>"
      ]
     },
     "execution_count": 42,
     "metadata": {},
     "output_type": "execute_result"
    },
    {
     "data": {
      "image/png": "[encoded data removed]",
      "text/plain": [
       "<Figure size 540x396 with 1 Axes>"
      ]
     },
     "metadata": {
      "needs_background": "light"
     },
     "output_type": "display_data"
    }
   ],
   "source": [
    "ave = zonal_comms_mean['average']\n",
    "std = zonal_comms_mean['std']\n",
    "#stp = dual_comms_mean['std_plus']\n",
    "#std = dual_comms_mean['std_minus']\n",
    "x = zonal_comms_mean['distance']\n",
    "\n",
    "fig, ax = plt.subplots(figsize=(7.5,5.5))\n",
    "#plt.style.use('')\n",
    "ax.plot(x/10, ave,color='slategrey')\n",
    "ax.fill_between(x/10, ave - std, ave + std, alpha=0.2,color='lightslategrey')\n",
    "\n",
    "#plt.ylabel('Community Population (%)', fontname=\"Roboto\", fontsize=12)\n",
    "#plt.xlabel('Distance from Community High Point (km)', fontname=\"Roboto\", fontsize=12)"
   ]
  },
  {
   "cell_type": "code",
   "execution_count": 43,
   "metadata": {},
   "outputs": [],
   "source": [
    "plt.close()"
   ]
  },
  {
   "cell_type": "code",
   "execution_count": null,
   "metadata": {},
   "outputs": [],
   "source": []
  }
 ],
 "metadata": {
  "kernelspec": {
   "display_name": "Python 2",
   "language": "python",
   "name": "python2"
  },
  "language_info": {
   "codemirror_mode": {
    "name": "ipython",
    "version": 2
   },
   "file_extension": ".py",
   "mimetype": "text/x-python",
   "name": "python",
   "nbconvert_exporter": "python",
   "pygments_lexer": "ipython2",
   "version": "2.7.15"
  }
 },
 "nbformat": 4,
 "nbformat_minor": 2
}
